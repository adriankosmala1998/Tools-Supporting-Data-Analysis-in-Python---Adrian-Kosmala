{
 "cells": [
  {
   "cell_type": "code",
   "execution_count": 2,
   "metadata": {},
   "outputs": [],
   "source": [
    "import re"
   ]
  },
  {
   "cell_type": "code",
   "execution_count": 11,
   "metadata": {},
   "outputs": [
    {
     "name": "stdout",
     "output_type": "stream",
     "text": [
      "['Adrian', 'Kosmala']\n"
     ]
    }
   ],
   "source": [
    "#zad 1\n",
    "text = 'Adrian Kosmala'\n",
    "print(re.findall(r'[A-Z][a-z]+',text))"
   ]
  },
  {
   "cell_type": "code",
   "execution_count": 13,
   "metadata": {},
   "outputs": [
    {
     "name": "stdout",
     "output_type": "stream",
     "text": [
      "['00-123']\n"
     ]
    }
   ],
   "source": [
    "#zad 2\n",
    "zip_code = '00-123'\n",
    "print(re.findall(r'\\d{2}-\\d{3}',zip_code))"
   ]
  },
  {
   "cell_type": "code",
   "execution_count": 19,
   "metadata": {},
   "outputs": [
    {
     "name": "stdout",
     "output_type": "stream",
     "text": [
      "['+485 111 222 333']\n"
     ]
    }
   ],
   "source": [
    "#zad 3\n",
    "phone_number = '+485 111 222 333'\n",
    "print(re.findall(r'\\+\\d{1,3}\\s?\\d{3}\\s?\\d{3}\\s?\\d{3}',phone_number))"
   ]
  },
  {
   "cell_type": "code",
   "execution_count": 25,
   "metadata": {},
   "outputs": [
    {
     "name": "stdout",
     "output_type": "stream",
     "text": [
      "<re.Match object; span=(4, 10), match='123321'>\n"
     ]
    }
   ],
   "source": [
    "#zad 4\n",
    "palindrom = '123 123321 456'\n",
    "print(re.search(r'(\\d{1})(\\d{1})(\\d{1})(\\d{1})(\\d{1})(\\d{1})*\\6*\\5*\\4*\\3*\\2*\\1',palindrom))"
   ]
  },
  {
   "cell_type": "code",
   "execution_count": null,
   "metadata": {},
   "outputs": [],
   "source": []
  }
 ],
 "metadata": {
  "kernelspec": {
   "display_name": "Python 3",
   "language": "python",
   "name": "python3"
  },
  "language_info": {
   "codemirror_mode": {
    "name": "ipython",
    "version": 3
   },
   "file_extension": ".py",
   "mimetype": "text/x-python",
   "name": "python",
   "nbconvert_exporter": "python",
   "pygments_lexer": "ipython3",
   "version": "3.8.10"
  }
 },
 "nbformat": 4,
 "nbformat_minor": 4
}
